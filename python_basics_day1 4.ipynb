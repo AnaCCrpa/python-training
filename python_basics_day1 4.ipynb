{
  "nbformat": 4,
  "nbformat_minor": 0,
  "metadata": {
    "colab": {
      "provenance": []
    },
    "kernelspec": {
      "name": "python3",
      "display_name": "Python 3"
    },
    "language_info": {
      "name": "python"
    }
  },
  "cells": [
    {
      "cell_type": "code",
      "source": [],
      "metadata": {
        "id": "VYiF6jsM8bXa"
      },
      "execution_count": null,
      "outputs": []
    },
    {
      "cell_type": "code",
      "source": [
        "a=10\n",
        "print(a)\n",
        "b=20\n",
        "c=30\n",
        "print(c)\n",
        "b=c\n",
        "print(b)\n",
        "\n",
        "\n"
      ],
      "metadata": {
        "id": "T8HNBGmh8lny",
        "outputId": "78dcbfff-2a07-41c0-d327-4e191f10a39e",
        "colab": {
          "base_uri": "https://localhost:8080/"
        }
      },
      "execution_count": 14,
      "outputs": [
        {
          "output_type": "stream",
          "name": "stdout",
          "text": [
            "10\n",
            "30\n",
            "30\n"
          ]
        }
      ]
    },
    {
      "cell_type": "markdown",
      "source": [],
      "metadata": {
        "id": "_Pwe2wbH8_yv"
      }
    },
    {
      "cell_type": "code",
      "source": [],
      "metadata": {
        "id": "LAVHnQfr8n-c"
      },
      "execution_count": 9,
      "outputs": []
    }
  ]
}