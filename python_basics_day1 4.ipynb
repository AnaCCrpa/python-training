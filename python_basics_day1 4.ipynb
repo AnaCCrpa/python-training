{
  "nbformat": 4,
  "nbformat_minor": 0,
  "metadata": {
    "colab": {
      "provenance": [],
      "include_colab_link": true
    },
    "kernelspec": {
      "name": "python3",
      "display_name": "Python 3"
    },
    "language_info": {
      "name": "python"
    }
  },
  "cells": [
    {
      "cell_type": "markdown",
      "metadata": {
        "id": "view-in-github",
        "colab_type": "text"
      },
      "source": [
        "<a href=\"https://colab.research.google.com/github/AnaCCrpa/python-training/blob/main/python_basics_day1%204.ipynb\" target=\"_parent\"><img src=\"https://colab.research.google.com/assets/colab-badge.svg\" alt=\"Open In Colab\"/></a>"
      ]
    },
    {
      "cell_type": "code",
      "source": [],
      "metadata": {
        "id": "VYiF6jsM8bXa"
      },
      "execution_count": null,
      "outputs": []
    },
    {
      "cell_type": "code",
      "source": [
        "a=10\n",
        "print(a)\n",
        "b=20\n",
        "c=30\n",
        "print(c)\n",
        "b=c\n",
        "print(b)\n",
        "\n",
        "\n"
      ],
      "metadata": {
        "id": "T8HNBGmh8lny",
        "outputId": "78dcbfff-2a07-41c0-d327-4e191f10a39e",
        "colab": {
          "base_uri": "https://localhost:8080/"
        }
      },
      "execution_count": null,
      "outputs": [
        {
          "output_type": "stream",
          "name": "stdout",
          "text": [
            "10\n",
            "30\n",
            "30\n"
          ]
        }
      ]
    },
    {
      "cell_type": "markdown",
      "source": [],
      "metadata": {
        "id": "_Pwe2wbH8_yv"
      }
    },
    {
      "cell_type": "code",
      "source": [
        "A=\"hello, world!\"\n",
        "\n",
        "# + slicing\n",
        "print(A[7:12:1])\n",
        "\n",
        "# - slicing\n",
        "print(A[-6:-1:1])\n",
        "\n",
        "print(A[-1:-1:-1])\n",
        "\n",
        "print(A[-8:-1:2])"
      ],
      "metadata": {
        "id": "LAVHnQfr8n-c",
        "colab": {
          "base_uri": "https://localhost:8080/"
        },
        "outputId": "9aeb67a7-cc14-4b63-b922-3add5c4ae7a2"
      },
      "execution_count": 38,
      "outputs": [
        {
          "output_type": "stream",
          "name": "stdout",
          "text": [
            "world\n",
            "world\n",
            "\n",
            ",wrd\n"
          ]
        }
      ]
    },
    {
      "cell_type": "code",
      "source": [
        "# prompt: provide some slicing mcq is to test myself?\n",
        "\n",
        "# 1. What will be the output of the following Python code?\n",
        "#    A = \"Hello, World!\"\n",
        "#    print(A[1:4])\n",
        "\n",
        "#    a) ell\n",
        "#    b) ello\n",
        "#    c) Hel\n",
        "#    d) lo,\n",
        "\n",
        "\n",
        "# 2.  What will be the output of the following Python code?\n",
        "#    A = \"Hello, World!\"\n",
        "#    print(A[:5])\n",
        "\n",
        "#    a) Hello\n",
        "#    b) Hello,\n",
        "#    c) World\n",
        "#    d) , Wor\n",
        "\n",
        "\n",
        "# 3. What will be the output of the following Python code?\n",
        "#     A = \"Hello, World!\"\n",
        "#     print(A[7:])\n",
        "\n",
        "#     a) World!\n",
        "#     b) Hello\n",
        "#     c) , World!\n",
        "#     d) o, World!\n",
        "\n",
        "\n",
        "# 4.  What will be the output of the following Python code?\n",
        "#     A = \"Hello, World!\"\n",
        "#     print(A[-5:-2])\n",
        "#     a) orl\n",
        "#     b) rld\n",
        "#     c) or\n",
        "#     d) Wor\n",
        "\n",
        "\n",
        "# 5. What will be the output of the following Python code?\n",
        "#     A = \"Hello, World!\"\n",
        "#     print(A[::-1])\n",
        "#     a) !dlroW ,olleH\n",
        "#     b) Hello, World!\n",
        "#     c) dlroW ,olleH\n",
        "#     d) !dlroW ,olleH!\n",
        "\n",
        "\n",
        "# 6. What does A[start:stop:step] represent in Python string slicing?\n",
        "\n",
        "#     a) Extracts a substring from string A starting at index 'start' up to but not including index 'stop' with a step of 'step'\n",
        "#     b) Extracts a substring from string A starting at index 'start' up to and including index 'stop' with a step of 'step'\n",
        "#     c)  Extracts a substring from string A starting at index 'stop' up to but not including index 'start' with a step of 'step'\n",
        "#     d)  Replaces characters in string A from 'start' to 'stop'\n",
        "\n",
        "\n",
        "# 7.  What is the output of the following Python code snippet?\n",
        "#      my_string = \"abcdefg\"\n",
        "#      print(my_string[::2])\n",
        "\n",
        "#      a) aceg\n",
        "#      b) bdf\n",
        "#      c) abcdefg\n",
        "#      d) adg\n",
        "\n",
        "# 8.  What is the output of the following Python code?\n",
        "#     message = \"Python is fun!\"\n",
        "#     print(message[7:10])\n",
        "\n",
        "#     a) is\n",
        "#     b)  isf\n",
        "#     c) fun\n",
        "#     d)  is\n",
        "\n"
      ],
      "metadata": {
        "id": "pJn_w8chKEGO"
      },
      "execution_count": null,
      "outputs": []
    }
  ]
}